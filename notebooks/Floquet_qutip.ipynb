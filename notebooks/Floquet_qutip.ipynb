{
 "cells": [
  {
   "attachments": {},
   "cell_type": "markdown",
   "metadata": {},
   "source": [
    "<h1 style=\"text-align: center;\">Floquet with QuTiP <h1>\n"
   ]
  },
  {
   "attachments": {},
   "cell_type": "markdown",
   "metadata": {},
   "source": [
    "The Hamiltonian of interest is given by \n",
    "$$\n",
    "H_{\\text{full}}(t) = \\omega_0 a^\\dagger a + \\sum_{n=3}^\\infty g_n (a^\\dagger + a)^n - i\\Omega_d \\cos(\\omega_d t) (a -a^\\dagger),\n",
    "$$\n",
    "where depending on which paper I read or who I ask one can see $g_n$ defined as $g_n/n$, a factor of $2$ in front of the $\\Omega_d$ term, and even an extra driving $\\propto \\Omega_1 \\cos(\\omega_1 t) (a -a^\\dagger)$. These differences are mostly trivial but know they exist. We now proceed to investigate the spectrum of $H_{\\text{full}}(t)$ under several regimes: an static effecitve regime (Sec. 1 bellow) and a Floquet regime (Sec. 2).\n",
    "\n",
    "Anyways, in QuTiP we define it like\n",
    "$$\n",
    "H(t) = H_0 + H_d\\cos(\\omega_d t),\n",
    "$$\n",
    "where $H_0$ and $H_d$ are obvious from context."
   ]
  },
  {
   "cell_type": "code",
   "execution_count": 1,
   "metadata": {},
   "outputs": [],
   "source": [
    "from qutip import *\n",
    "import numpy as np\n",
    "from numpy import linalg as LA\n",
    "from tqdm import tqdm_notebook\n",
    "\n",
    "# where g_n is a Numpy vector whose length defines the order of the well\n",
    "def H_0(N,w_0, g_n):\n",
    "    well_ord = len(g_n)\n",
    "    kinetic = w_0*create(N)*destroy(N) \n",
    "    well_vect = np.array( [(create(N) + destroy(N))**n for n in range(3,well_ord+3) ])\n",
    "    well = np.einsum('i,ijk', g_n, well_vect)\n",
    "    return kinetic + well\n",
    "    \n",
    "def H_d(N,Omega_d):\n",
    "    return -1j*Omega_d*(destroy(N)-create(N))\n",
    "\n",
    "def H_full(N,w_0, g_n, Omega_d):\n",
    "    return [H_0(N,w_0, g_n), [H_d(N,Omega_d), 'cos(w_d * t)']]\n",
    "\n",
    "def H(N,w_0, g_n,Omega_d,w_d,t):\n",
    "    return  H_0(N,w_0, g_n) + np.cos(w_d*t) * H_d(N,Omega_d)\n",
    "\n"
   ]
  },
  {
   "attachments": {},
   "cell_type": "markdown",
   "metadata": {},
   "source": [
    "and now for the actual computation"
   ]
  },
  {
   "cell_type": "code",
   "execution_count": 5,
   "metadata": {},
   "outputs": [
    {
     "name": "stderr",
     "output_type": "stream",
     "text": [
      "/var/folders/v1/xrps7b392_3f75y4rhby8nl00000gn/T/ipykernel_68229/1661392925.py:10: TqdmDeprecationWarning: This function will be removed in tqdm==5.0.0\n",
      "Please use `tqdm.notebook.tqdm` instead of `tqdm.tqdm_notebook`\n",
      "  for i, Omega_d in tqdm_notebook(enumerate(Omega_d_array)):\n"
     ]
    },
    {
     "data": {
      "application/vnd.jupyter.widget-view+json": {
       "model_id": "80f8b15d23a543d3886a89bafa5c42e1",
       "version_major": 2,
       "version_minor": 0
      },
      "text/plain": [
       "0it [00:00, ?it/s]"
      ]
     },
     "metadata": {},
     "output_type": "display_data"
    },
    {
     "name": "stderr",
     "output_type": "stream",
     "text": [
      "/var/folders/v1/xrps7b392_3f75y4rhby8nl00000gn/T/ipykernel_68229/1661392925.py:15: RuntimeWarning: invalid value encountered in log\n",
      "  Delta_E[i,:] = np.log(f_energies)/T - min(np.log(f_energies))/T\n"
     ]
    }
   ],
   "source": [
    "N = 30\n",
    "w_0 = 1\n",
    "g_n = np.array([1/4,1])\n",
    "w_d = 1\n",
    "\n",
    "Omega_d_array = np.linspace(1,10,20)\n",
    "\n",
    "Delta_E = np.zeros((len(Omega_d_array),N))\n",
    "Omega_d_matrix = np.zeros((len(Omega_d_array),N))\n",
    "for i, Omega_d in enumerate(Omega_d_array):\n",
    "    print(i/len(Omega_d))\n",
    "    args = {'w_d': w_d}\n",
    "    H = H_full(N,w_0, g_n, Omega_d)\n",
    "    T = 2*np.pi / w_d\n",
    "    _, f_energies = floquet_modes(H, T, args, options=Options(nsteps=1000000))\n",
    "    Delta_E[i,:] = f_energies - min(f_energies)\n",
    "    Omega_d_matrix[i,:] = Omega_d"
   ]
  },
  {
   "cell_type": "code",
   "execution_count": 63,
   "metadata": {},
   "outputs": [
    {
     "data": {
      "image/png": "[encoded data removed]",
      "text/plain": [
       "<Figure size 640x480 with 1 Axes>"
      ]
     },
     "metadata": {},
     "output_type": "display_data"
    }
   ],
   "source": [
    "import matplotlib.pyplot as plt\n",
    "for i in range(len(Omega_d_array)):\n",
    "    plt.scatter(Omega_d_array[i],Delta_E[i,1],color=\"k\",s=1)\n",
    "plt.show()\n"
   ]
  },
  {
   "cell_type": "code",
   "execution_count": 19,
   "metadata": {},
   "outputs": [],
   "source": [
    "def H_t(t,args):\n",
    "    N = 10\n",
    "    w_0 = 1\n",
    "    g_n = np.array([1,1/2])\n",
    "    Omega_d = 1\n",
    "    w_d = 1\n",
    "    return H(N,w_0, g_n,Omega_d,w_d,t)\n",
    "w_d = 1\n",
    "T = 2*np.pi / w_d\n",
    "t_array = np.linspace(0,2*T,50) # 2 periods cause Rodrigo said so\n",
    "\n",
    "U_t = propagator(H_t, t_array, options=None, unitary_mode='batch', parallel=False, progress_bar=None)\n",
    "U_2T = U_t[-1]"
   ]
  },
  {
   "attachments": {},
   "cell_type": "markdown",
   "metadata": {},
   "source": [
    "Note is not hermitian!!!"
   ]
  },
  {
   "cell_type": "code",
   "execution_count": 18,
   "metadata": {},
   "outputs": [
    {
     "data": {
      "text/plain": [
       "False"
      ]
     },
     "execution_count": 18,
     "metadata": {},
     "output_type": "execute_result"
    }
   ],
   "source": [
    "quasienergies = LA.eigvalsh(U_T[-1])\n",
    "U_T[-1].check_herm()"
   ]
  },
  {
   "cell_type": "code",
   "execution_count": 8,
   "metadata": {},
   "outputs": [
    {
     "data": {
      "text/latex": [
       "Quantum object: dims = [[10], [10]], shape = (10, 10), type = oper, isherm = False $ \\\\ \\left(\\begin{matrix}(-0.533-0.369j) & (-0.107-0.004j) & (0.228+0.043j) & (0.113+0.288j) & (-0.305-8.740\\times10^{-04}j) & (0.019-0.307j) & (0.290-0.018j) & (-0.099+0.242j) & (-0.165+0.009j) & (0.125-0.190j)\\\\(-0.119+0.030j) & (0.655+0.099j) & (-0.473+0.216j) & (-0.184-0.056j) & (0.130+0.156j) & (0.132-0.154j) & (0.156-0.209j) & (-0.136+0.116j) & (-0.154+0.117j) & (0.122-0.062j)\\\\(0.231+0.018j) & (-0.486+0.200j) & (-0.421+0.350j) & (0.360+0.135j) & (0.138-0.197j) & (-0.010-0.081j) & (0.152-0.234j) & (-0.014+0.060j) & (-0.176+0.194j) & (-0.066-0.056j)\\\\(0.125+0.282j) & (-0.181-0.027j) & (0.373+0.135j) & (-0.189-0.117j) & (-0.047+0.284j) & (0.384-0.291j) & (0.213-0.216j) & (-0.197-0.165j) & (-0.221+0.101j) & (-0.076+0.357j)\\\\(-0.311+0.008j) & (0.133+0.148j) & (0.120-0.214j) & (-0.030+0.298j) & (0.342-0.508j) & (0.296+0.082j) & (-0.157-0.218j) & (-0.041-0.147j) & (-0.095+0.077j) & (-0.340+0.134j)\\\\(0.011-0.304j) & (0.138-0.170j) & (-0.022-0.076j) & (0.386-0.291j) & (0.298+0.084j) & (-0.154-0.475j) & (-0.029+0.206j) & (0.015-0.248j) & (-0.208-0.145j) & (-0.314+0.086j)\\\\(0.294-0.017j) & (0.157-0.191j) & (0.172-0.214j) & (0.204-0.230j) & (-0.161-0.227j) & (-0.034+0.208j) & (0.093-0.469j) & (-0.241+0.139j) & (-0.324-0.295j) & (0.039-0.243j)\\\\(-0.095+0.235j) & (-0.149+0.112j) & (-0.009+0.046j) & (-0.205-0.160j) & (-0.029-0.137j) & (0.021-0.249j) & (-0.256+0.132j) & (-0.331-0.365j) & (-0.039+0.020j) & (0.056-0.646j)\\\\(-0.167+0.007j) & (-0.155+0.104j) & (-0.188+0.183j) & (-0.218+0.108j) & (-0.093+0.083j) & (-0.203-0.146j) & (-0.325-0.297j) & (-0.047+0.016j) & (0.015-0.688j) & (-0.088+0.230j)\\\\(0.122-0.180j) & (0.137-0.049j) & (-0.066-0.037j) & (-0.063+0.349j) & (-0.358+0.117j) & (-0.323+0.088j) & (0.056-0.232j) & (0.059-0.646j) & (-0.097+0.225j) & (-0.082+0.026j)\\\\\\end{matrix}\\right)$"
      ],
      "text/plain": [
       "Quantum object: dims = [[10], [10]], shape = (10, 10), type = oper, isherm = False\n",
       "Qobj data =\n",
       "[[-0.53271941-0.36934857j -0.10749188-0.00432249j  0.22793042+0.04275736j\n",
       "   0.112795  +0.28752374j -0.30484122-0.00087402j  0.01886404-0.30688462j\n",
       "   0.28969093-0.01762231j -0.09924493+0.2424861j  -0.16515897+0.00902086j\n",
       "   0.12453685-0.1899292j ]\n",
       " [-0.11890615+0.0297784j   0.65522174+0.09937619j -0.47286266+0.21576275j\n",
       "  -0.18446964-0.05566322j  0.13014302+0.15599089j  0.13237537-0.15437313j\n",
       "   0.15590232-0.20914413j -0.13601144+0.11592388j -0.15397693+0.11658857j\n",
       "   0.12194938-0.06226612j]\n",
       " [ 0.23129904+0.01775087j -0.48636973+0.20013727j -0.42084618+0.3504194j\n",
       "   0.35953534+0.13488093j  0.13786945-0.1966717j  -0.00966137-0.08085172j\n",
       "   0.15229111-0.23387424j -0.01367024+0.05988156j -0.17638065+0.19434872j\n",
       "  -0.06640672-0.05556376j]\n",
       " [ 0.12500885+0.28203563j -0.18123458-0.02700031j  0.37313068+0.134669j\n",
       "  -0.18887264-0.11717149j -0.0470645 +0.28398274j  0.38354316-0.29061781j\n",
       "   0.21262147-0.21631873j -0.19657477-0.16544117j -0.22092275+0.10098805j\n",
       "  -0.0758227 +0.35724114j]\n",
       " [-0.31092069+0.00827513j  0.13301627+0.14777346j  0.12048476-0.21414019j\n",
       "  -0.03021109+0.29758923j  0.34206191-0.5082759j   0.2958393 +0.08238062j\n",
       "  -0.15689905-0.2183935j  -0.04056048-0.14749879j -0.09540724+0.07665388j\n",
       "  -0.34023548+0.13373759j]\n",
       " [ 0.01108371-0.30393879j  0.13754736-0.16983002j -0.0222724 -0.0761217j\n",
       "   0.38608048-0.29050308j  0.29783719+0.08423777j -0.15352889-0.47501794j\n",
       "  -0.02904916+0.20566473j  0.01519901-0.24775095j -0.20771184-0.14512517j\n",
       "  -0.31402056+0.08583001j]\n",
       " [ 0.29446852-0.0172943j   0.15715687-0.19062222j  0.17232818-0.21412514j\n",
       "   0.20368805-0.23025728j -0.16136723-0.22660415j -0.03406548+0.20832949j\n",
       "   0.09324823-0.46924413j -0.24143901+0.13918231j -0.32448612-0.29509294j\n",
       "   0.03874789-0.24343802j]\n",
       " [-0.09516679+0.23496117j -0.14850464+0.11233267j -0.00920736+0.04605262j\n",
       "  -0.20546774-0.16025021j -0.02866114-0.13687549j  0.02117981-0.24943469j\n",
       "  -0.25564119+0.13248533j -0.33122345-0.36529083j -0.03894931+0.01953037j\n",
       "   0.05601077-0.64579496j]\n",
       " [-0.16734779+0.00722857j -0.15494905+0.1041254j  -0.18766503+0.18283254j\n",
       "  -0.2179892 +0.1083331j  -0.09278352+0.08298926j -0.20335949-0.14638682j\n",
       "  -0.3245261 -0.2968152j  -0.04706333+0.01631846j  0.01541041-0.68816714j\n",
       "  -0.08835925+0.23035829j]\n",
       " [ 0.12215504-0.17968063j  0.13720896-0.04871775j -0.06619727-0.03682419j\n",
       "  -0.06270515+0.34943597j -0.35770245+0.11707154j -0.32341014+0.08826358j\n",
       "   0.05584406-0.23248754j  0.05899274-0.64640817j -0.09735354+0.2251881j\n",
       "  -0.08159201+0.02642466j]]"
      ]
     },
     "execution_count": 8,
     "metadata": {},
     "output_type": "execute_result"
    }
   ],
   "source": [
    "t_array = np.linspace(0,T,50)\n",
    "U_2T = propagator(H_t, t_array, options=None, unitary_mode='batch', parallel=False, progress_bar=None)\n",
    "U_2T[len(U_2T)//2]"
   ]
  },
  {
   "cell_type": "code",
   "execution_count": null,
   "metadata": {},
   "outputs": [],
   "source": [
    "U_2T[len(U_2T)//2]"
   ]
  },
  {
   "cell_type": "code",
   "execution_count": 23,
   "metadata": {},
   "outputs": [
    {
     "data": {
      "text/plain": [
       "array([-0.13174077,  0.03011839, -0.24395926,  0.33269845,  0.34914791,\n",
       "       -0.33740245, -0.43129531,  0.47624471,  0.43477849, -0.47886893])"
      ]
     },
     "execution_count": 23,
     "metadata": {},
     "output_type": "execute_result"
    }
   ],
   "source": []
  },
  {
   "cell_type": "code",
   "execution_count": 21,
   "metadata": {},
   "outputs": [
    {
     "data": {
      "text/plain": [
       "[0.0,\n",
       " 0.016442489631135954,\n",
       " 0.06576995852454381,\n",
       " 0.14798240668022358,\n",
       " 0.26307983409817526,\n",
       " 0.4110622407783988,\n",
       " 0.5919296267208943,\n",
       " 0.8056819919256618,\n",
       " 1.052319336392701,\n",
       " 1.3318416601220122,\n",
       " 1.6442489631135953,\n",
       " 1.9895412453674506,\n",
       " 2.3677185068835773,\n",
       " 2.778780747661976,\n",
       " 3.2227279677026472,\n",
       " 3.6995601670055898,\n",
       " 4.209277345570804,\n",
       " 4.751879503398291,\n",
       " 5.327366640488049,\n",
       " 5.935738756840078,\n",
       " 6.576995852454381,\n",
       " 7.251137927330957,\n",
       " 7.958164981469802,\n",
       " 8.69807701487092,\n",
       " 9.47087402753431,\n",
       " 10.27655601945997,\n",
       " 11.115122990647905,\n",
       " 11.986574941098109,\n",
       " 12.890911870810589,\n",
       " 13.82813377978534,\n",
       " 14.798240668022359,\n",
       " 15.801232535521653,\n",
       " 16.837109382283217,\n",
       " 17.905871208307058,\n",
       " 19.007518013593163,\n",
       " 20.142049798141546,\n",
       " 21.309466561952195,\n",
       " 22.509768305025123,\n",
       " 23.742955027360313,\n",
       " 25.00902672895779,\n",
       " 26.307983409817524,\n",
       " 27.63982506993954,\n",
       " 29.004551709323827,\n",
       " 30.402163327970378,\n",
       " 31.83265992587921,\n",
       " 33.296041503050304,\n",
       " 34.79230805948368,\n",
       " 36.32145959517932,\n",
       " 37.88349611013724,\n",
       " 39.47841760435743]"
      ]
     },
     "execution_count": 21,
     "metadata": {},
     "output_type": "execute_result"
    }
   ],
   "source": [
    "def f(x):\n",
    "    return x**2\n",
    "\n",
    "[f(t) for t in t_array]"
   ]
  },
  {
   "cell_type": "code",
   "execution_count": 18,
   "metadata": {},
   "outputs": [],
   "source": [
    "t_array = np.linspace(0,T,50)\n"
   ]
  },
  {
   "cell_type": "code",
   "execution_count": 19,
   "metadata": {},
   "outputs": [
    {
     "data": {
      "text/plain": [
       "array([0.        , 0.12822827, 0.25645654, 0.38468481, 0.51291309,\n",
       "       0.64114136, 0.76936963, 0.8975979 , 1.02582617, 1.15405444,\n",
       "       1.28228272, 1.41051099, 1.53873926, 1.66696753, 1.7951958 ,\n",
       "       1.92342407, 2.05165235, 2.17988062, 2.30810889, 2.43633716,\n",
       "       2.56456543, 2.6927937 , 2.82102197, 2.94925025, 3.07747852,\n",
       "       3.20570679, 3.33393506, 3.46216333, 3.5903916 , 3.71861988,\n",
       "       3.84684815, 3.97507642, 4.10330469, 4.23153296, 4.35976123,\n",
       "       4.48798951, 4.61621778, 4.74444605, 4.87267432, 5.00090259,\n",
       "       5.12913086, 5.25735913, 5.38558741, 5.51381568, 5.64204395,\n",
       "       5.77027222, 5.89850049, 6.02672876, 6.15495704, 6.28318531])"
      ]
     },
     "execution_count": 19,
     "metadata": {},
     "output_type": "execute_result"
    }
   ],
   "source": [
    "t_array"
   ]
  },
  {
   "cell_type": "code",
   "execution_count": null,
   "metadata": {},
   "outputs": [],
   "source": []
  }
 ],
 "metadata": {
  "kernelspec": {
   "display_name": "base",
   "language": "python",
   "name": "python3"
  },
  "language_info": {
   "codemirror_mode": {
    "name": "ipython",
    "version": 3
   },
   "file_extension": ".py",
   "mimetype": "text/x-python",
   "name": "python",
   "nbconvert_exporter": "python",
   "pygments_lexer": "ipython3",
   "version": "3.10.9"
  },
  "orig_nbformat": 4,
  "vscode": {
   "interpreter": {
    "hash": "8d1899d3d453529ab54a548c453eb03872168ef6a9900e12952b62a455030e12"
   }
  }
 },
 "nbformat": 4,
 "nbformat_minor": 2
}
